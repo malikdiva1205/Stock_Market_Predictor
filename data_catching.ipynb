{
 "cells": [
  {
   "cell_type": "code",
   "execution_count": 3,
   "metadata": {},
   "outputs": [
    {
     "name": "stdout",
     "output_type": "stream",
     "text": [
      "{'open': '122', 'high': '122', 'low': '122', 'volume': '122'}\n"
     ]
    }
   ],
   "source": [
    "import json\n",
    "\n",
    "# Read data from the JSON file\n",
    "with open('data_pass.json', 'r') as file:\n",
    "    data = json.load(file)\n",
    "\n",
    "print(data)  # {'open': 20, 'high': 30, 'low': 10, 'volume': 1000}\n"
   ]
  },
  {
   "cell_type": "code",
   "execution_count": null,
   "metadata": {},
   "outputs": [],
   "source": []
  }
 ],
 "metadata": {
  "kernelspec": {
   "display_name": "Python 3",
   "language": "python",
   "name": "python3"
  },
  "language_info": {
   "codemirror_mode": {
    "name": "ipython",
    "version": 3
   },
   "file_extension": ".py",
   "mimetype": "text/x-python",
   "name": "python",
   "nbconvert_exporter": "python",
   "pygments_lexer": "ipython3",
   "version": "3.11.5"
  }
 },
 "nbformat": 4,
 "nbformat_minor": 2
}
